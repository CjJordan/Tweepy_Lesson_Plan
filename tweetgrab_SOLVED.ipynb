{
 "cells": [
  {
   "cell_type": "code",
   "execution_count": 1,
   "metadata": {
    "collapsed": true
   },
   "outputs": [],
   "source": [
    "# Dependencies\n",
    "import tweepy\n",
    "from key_vault import (consumer_key, \n",
    "                    consumer_secret, \n",
    "                    access_token, \n",
    "                    access_token_secret)\n",
    "\n",
    "# Setup Tweepy API Authentication\n",
    "auth = tweepy.OAuthHandler(consumer_key, consumer_secret)\n",
    "auth.set_access_token(access_token, access_token_secret)\n",
    "api = tweepy.API(auth, parser=tweepy.parsers.JSONParser())"
   ]
  },
  {
   "cell_type": "code",
   "execution_count": 2,
   "metadata": {
    "collapsed": true
   },
   "outputs": [],
   "source": [
    "#Pull your company's (or one of the executives)last tweet.  Hint- try the user_timeline method\n",
    "company_following = \"GoldmanSachs\"\n",
    "full_tweet = api.user_timeline(company_following , count = 1)"
   ]
  },
  {
   "cell_type": "code",
   "execution_count": 3,
   "metadata": {},
   "outputs": [
    {
     "name": "stdout",
     "output_type": "stream",
     "text": [
      "[\n",
      "    {\n",
      "        \"contributors\": null,\n",
      "        \"coordinates\": null,\n",
      "        \"created_at\": \"Wed Aug 15 22:00:10 +0000 2018\",\n",
      "        \"entities\": {\n",
      "            \"hashtags\": [\n",
      "                {\n",
      "                    \"indices\": [\n",
      "                        71,\n",
      "                        77\n",
      "                    ],\n",
      "                    \"text\": \"LatAm\"\n",
      "                }\n",
      "            ],\n",
      "            \"symbols\": [\n",
      "                {\n",
      "                    \"indices\": [\n",
      "                        16,\n",
      "                        19\n",
      "                    ],\n",
      "                    \"text\": \"GS\"\n",
      "                }\n",
      "            ],\n",
      "            \"urls\": [\n",
      "                {\n",
      "                    \"display_url\": \"twitter.com/i/web/status/1\\u2026\",\n",
      "                    \"expanded_url\": \"https://twitter.com/i/web/status/1029850261689393152\",\n",
      "                    \"indices\": [\n",
      "                        121,\n",
      "                        144\n",
      "                    ],\n",
      "                    \"url\": \"https://t.co/uGUNWY4YIJ\"\n",
      "                }\n",
      "            ],\n",
      "            \"user_mentions\": []\n",
      "        },\n",
      "        \"favorite_count\": 16,\n",
      "        \"favorited\": false,\n",
      "        \"geo\": null,\n",
      "        \"id\": 1029850261689393152,\n",
      "        \"id_str\": \"1029850261689393152\",\n",
      "        \"in_reply_to_screen_name\": null,\n",
      "        \"in_reply_to_status_id\": null,\n",
      "        \"in_reply_to_status_id_str\": null,\n",
      "        \"in_reply_to_user_id\": null,\n",
      "        \"in_reply_to_user_id_str\": null,\n",
      "        \"is_quote_status\": false,\n",
      "        \"lang\": \"en\",\n",
      "        \"place\": null,\n",
      "        \"possibly_sensitive\": false,\n",
      "        \"retweet_count\": 5,\n",
      "        \"retweeted\": false,\n",
      "        \"source\": \"<a href=\\\"http://www.spredfast.com\\\" rel=\\\"nofollow\\\">Spredfast app</a>\",\n",
      "        \"text\": \"Gonzalo Garcia, $GS' co-head of Latin America &amp; co-head of IBD for #LatAm, speaks with Bloomberg about a strengthen\\u2026 https://t.co/uGUNWY4YIJ\",\n",
      "        \"truncated\": true,\n",
      "        \"user\": {\n",
      "            \"contributors_enabled\": false,\n",
      "            \"created_at\": \"Wed Feb 16 17:59:09 +0000 2011\",\n",
      "            \"default_profile\": false,\n",
      "            \"default_profile_image\": false,\n",
      "            \"description\": \"Official Goldman Sachs Twitter account. Follow us for the latest in global and local economic progress, firm news, and thought leadership content.\",\n",
      "            \"entities\": {\n",
      "                \"description\": {\n",
      "                    \"urls\": []\n",
      "                },\n",
      "                \"url\": {\n",
      "                    \"urls\": [\n",
      "                        {\n",
      "                            \"display_url\": \"goldmansachs.com\",\n",
      "                            \"expanded_url\": \"http://www.goldmansachs.com\",\n",
      "                            \"indices\": [\n",
      "                                0,\n",
      "                                22\n",
      "                            ],\n",
      "                            \"url\": \"http://t.co/IORXQSIgTV\"\n",
      "                        }\n",
      "                    ]\n",
      "                }\n",
      "            },\n",
      "            \"favourites_count\": 5,\n",
      "            \"follow_request_sent\": false,\n",
      "            \"followers_count\": 690813,\n",
      "            \"following\": false,\n",
      "            \"friends_count\": 103,\n",
      "            \"geo_enabled\": false,\n",
      "            \"has_extended_profile\": false,\n",
      "            \"id\": 253167239,\n",
      "            \"id_str\": \"253167239\",\n",
      "            \"is_translation_enabled\": false,\n",
      "            \"is_translator\": false,\n",
      "            \"lang\": \"en\",\n",
      "            \"listed_count\": 5432,\n",
      "            \"location\": \"\",\n",
      "            \"name\": \"Goldman Sachs\",\n",
      "            \"notifications\": false,\n",
      "            \"profile_background_color\": \"7399C6\",\n",
      "            \"profile_background_image_url\": \"http://abs.twimg.com/images/themes/theme1/bg.png\",\n",
      "            \"profile_background_image_url_https\": \"https://abs.twimg.com/images/themes/theme1/bg.png\",\n",
      "            \"profile_background_tile\": false,\n",
      "            \"profile_banner_url\": \"https://pbs.twimg.com/profile_banners/253167239/1530555505\",\n",
      "            \"profile_image_url\": \"http://pbs.twimg.com/profile_images/875132347850436608/23m9wJZq_normal.jpg\",\n",
      "            \"profile_image_url_https\": \"https://pbs.twimg.com/profile_images/875132347850436608/23m9wJZq_normal.jpg\",\n",
      "            \"profile_link_color\": \"7399C6\",\n",
      "            \"profile_sidebar_border_color\": \"FFFFFF\",\n",
      "            \"profile_sidebar_fill_color\": \"DDEEF6\",\n",
      "            \"profile_text_color\": \"333333\",\n",
      "            \"profile_use_background_image\": true,\n",
      "            \"protected\": false,\n",
      "            \"screen_name\": \"GoldmanSachs\",\n",
      "            \"statuses_count\": 9759,\n",
      "            \"time_zone\": null,\n",
      "            \"translator_type\": \"none\",\n",
      "            \"url\": \"http://t.co/IORXQSIgTV\",\n",
      "            \"utc_offset\": null,\n",
      "            \"verified\": true\n",
      "        }\n",
      "    }\n",
      "]\n"
     ]
    }
   ],
   "source": [
    "#Get a good look at the full tweet to find the text. Utilize JSON dumps to generate a pretty-printed json \n",
    "import json\n",
    "print(json.dumps(full_tweet, sort_keys=True, indent=4))"
   ]
  },
  {
   "cell_type": "code",
   "execution_count": 4,
   "metadata": {},
   "outputs": [
    {
     "data": {
      "text/plain": [
       "\"Gonzalo Garcia, $GS' co-head of Latin America &amp; co-head of IBD for #LatAm, speaks with Bloomberg about a strengthen… https://t.co/uGUNWY4YIJ\""
      ]
     },
     "execution_count": 4,
     "metadata": {},
     "output_type": "execute_result"
    }
   ],
   "source": [
    "#Print the text of the tweet\n",
    "company_tweet=full_tweet[0]['text']\n",
    "company_tweet"
   ]
  },
  {
   "cell_type": "code",
   "execution_count": null,
   "metadata": {
    "collapsed": true
   },
   "outputs": [],
   "source": []
  }
 ],
 "metadata": {
  "kernelspec": {
   "display_name": "Python 3",
   "language": "python",
   "name": "python3"
  },
  "language_info": {
   "codemirror_mode": {
    "name": "ipython",
    "version": 3
   },
   "file_extension": ".py",
   "mimetype": "text/x-python",
   "name": "python",
   "nbconvert_exporter": "python",
   "pygments_lexer": "ipython3",
   "version": "3.6.2"
  }
 },
 "nbformat": 4,
 "nbformat_minor": 2
}
