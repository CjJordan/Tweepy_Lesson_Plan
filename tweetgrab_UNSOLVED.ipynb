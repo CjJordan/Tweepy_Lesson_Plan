{
 "cells": [
  {
   "cell_type": "code",
   "execution_count": null,
   "metadata": {
    "collapsed": true
   },
   "outputs": [],
   "source": [
    "# Dependencies\n",
    "import tweepy\n",
    "import json\n",
    "# import your API key config file\n",
    "\n",
    "# Twitter API Keys\n",
    "consumer_key = 'your info here'\n",
    "consumer_secret = 'your info here'\n",
    "access_token = 'your info here'\n",
    "access_token_secret = 'your info here'\n",
    "\n",
    "# Setup Tweepy API Authentication\n",
    "# YOUR CODE HERE\n",
    "\n",
    "\n",
    "# Pull your company's (or one of the executives)last tweet.  Hint- try the user_timeline method\n",
    "# YOUR CODE HERE\n",
    "\n",
    "\n",
    "# Get a good look at the full tweet to find the text. Utilize JSON dumps to generate a pretty-printed json\n",
    "# YOUR CODE HERE\n",
    "\n",
    "# Print the text of the tweet\n",
    "# YOUR CODE HERE"
   ]
  }
 ],
 "metadata": {
  "kernelspec": {
   "display_name": "Python 3",
   "language": "python",
   "name": "python3"
  },
  "language_info": {
   "codemirror_mode": {
    "name": "ipython",
    "version": 3
   },
   "file_extension": ".py",
   "mimetype": "text/x-python",
   "name": "python",
   "nbconvert_exporter": "python",
   "pygments_lexer": "ipython3",
   "version": "3.6.2"
  }
 },
 "nbformat": 4,
 "nbformat_minor": 2
}
